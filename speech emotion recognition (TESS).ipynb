{
 "cells": [
  {
   "cell_type": "markdown",
   "metadata": {},
   "source": [
    "# Speech Emotion Recognition\n",
    "\n",
    "This notebook is based on the paper Giuseppe de Pinto et all (GitHub repo : https://github.com/marcogdepinto/emotion-classification-from-audio-files). Their CNN based model was trained on both RAVDESS and TESS and achived a weighted F1 score of 0.91 on the test set. A few changes where made to their implementaion:\n",
    "\n",
    "* Extracting labels from the TESS dataset \n",
    "* Splitting the data into train, test and validation set. \n",
    "* Changed the number of epochs from 1000 to 100 and saved the best model checkpoint \n",
    "* Created evaluation visualisations <br>\n",
    "\n",
    "##### To run the notebook please place the TESS data ( i.e. folder OAF_../YAF_..) in the folder \"TESS Toronto emotional speech set data\"\n",
    "----------\n",
    "[1] M. G. de Pinto, M. Polignano, P. Lops and G. Semeraro, \"Emotions Understanding Model from Spoken Language using Deep Neural Networks and Mel-Frequency Cepstral Coefficients,\" 2020 IEEE Conference on Evolving and Adaptive Intelligent Systems (EAIS), 2020, pp. 1-5, doi: 10.1109/EAIS48028.2020.9122698.\n"
   ]
  },
  {
   "cell_type": "code",
   "execution_count": null,
   "metadata": {},
   "outputs": [],
   "source": [
    "import os\n",
    "import time\n",
    "import librosa\n",
    "import numpy as np\n",
    "import joblib\n",
    "import numpy as np\n",
    "import matplotlib.pyplot as plt\n",
    "from keras.layers import Dense\n",
    "from keras.layers import Conv1D\n",
    "from keras.layers import Flatten\n",
    "from keras.layers import Dropout\n",
    "from keras.layers import Activation\n",
    "from keras.models import Sequential\n",
    "from keras.callbacks import ModelCheckpoint\n",
    "from sklearn.metrics import confusion_matrix\n",
    "from sklearn.metrics import classification_report\n",
    "from sklearn.model_selection import train_test_split\n",
    "import re\n",
    "import pandas as pd"
   ]
  },
  {
   "cell_type": "markdown",
   "metadata": {},
   "source": [
    "# Prepare Data"
   ]
  },
  {
   "cell_type": "code",
   "execution_count": 3,
   "metadata": {},
   "outputs": [],
   "source": [
    "## extract data and labels\n",
    "\n",
    "label_list = []\n",
    "mfccs_list = []\n",
    "\n",
    "path = \"TESS Toronto emotional speech set data\"\n",
    "for subdir, dirs, files in os.walk(path):\n",
    "\n",
    "            for file in files:\n",
    "                file_path = os.path.join(subdir, file)\n",
    "                dir_name = os.path.basename(os.path.dirname(file_path))\n",
    "                label_list.append(re.sub('pleasant_surprised','pleasant_surprise',dir_name[4:].lower())) # merge classes\n",
    "                try:\n",
    "                    \n",
    "                    X, sample_rate = librosa.load((file_path),\n",
    "                                        res_type='kaiser_fast')\n",
    "                    mfccs = np.mean(librosa.feature.mfcc(y=X, sr=sample_rate,\n",
    "                                                         n_mfcc=40).T, axis=0)\n",
    "                    mfccs_list.append(mfccs)\n",
    "            \n",
    "                except ValueError as err:\n",
    "                    print(err)\n",
    "                    continue  \n",
    "\n",
    "# fetch labels\n",
    "from sklearn import preprocessing\n",
    "\n",
    "label_encoder = preprocessing.LabelEncoder()\n",
    "label_encoder.fit(label_list)\n",
    "int_label_list = label_encoder.transform(label_list)\n",
    "int_label_list\n",
    "label_encoder.classes_             \n",
    "\n",
    "X, y = np.asarray(mfccs_list), int_label_list"
   ]
  },
  {
   "cell_type": "code",
   "execution_count": 4,
   "metadata": {},
   "outputs": [
    {
     "data": {
      "text/plain": [
       "((2800, 40), (2800,))"
      ]
     },
     "execution_count": 4,
     "metadata": {},
     "output_type": "execute_result"
    }
   ],
   "source": [
    "# check shapes\n",
    "X.shape,y.shape"
   ]
  },
  {
   "cell_type": "code",
   "execution_count": 5,
   "metadata": {},
   "outputs": [],
   "source": [
    "# train test validation split\n",
    "X_train, X_test_full, y_train, y_test_full = train_test_split(X, y, test_size=0.40, random_state=8)\n",
    "X_val, X_test, y_val, y_test = train_test_split(X_test_full, y_test_full, test_size=0.5, random_state=8)\n",
    "x_traincnn = np.expand_dims(X_train, axis=2)\n",
    "x_valcnn = np.expand_dims(X_val, axis=2)\n",
    "x_testcnn = np.expand_dims(X_test, axis=2)\n"
   ]
  },
  {
   "cell_type": "markdown",
   "metadata": {},
   "source": [
    "# Train Model"
   ]
  },
  {
   "cell_type": "code",
   "execution_count": 7,
   "metadata": {},
   "outputs": [
    {
     "name": "stdout",
     "output_type": "stream",
     "text": [
      "<bound method Model.summary of <keras.engine.sequential.Sequential object at 0x0000020A5E321E40>>\n",
      "Epoch 1/100\n",
      "105/105 [==============================] - 3s 12ms/step - loss: 2.1984 - accuracy: 0.6393 - val_loss: 0.0913 - val_accuracy: 0.9661\n",
      "Epoch 2/100\n",
      "105/105 [==============================] - 1s 8ms/step - loss: 0.4107 - accuracy: 0.8935 - val_loss: 0.1343 - val_accuracy: 0.9482\n",
      "Epoch 3/100\n",
      "105/105 [==============================] - 1s 9ms/step - loss: 0.2057 - accuracy: 0.9423 - val_loss: 0.0814 - val_accuracy: 0.9732\n",
      "Epoch 4/100\n",
      "105/105 [==============================] - 1s 9ms/step - loss: 0.1170 - accuracy: 0.9714 - val_loss: 0.0361 - val_accuracy: 0.9875\n",
      "Epoch 5/100\n",
      "105/105 [==============================] - 1s 7ms/step - loss: 0.0963 - accuracy: 0.9679 - val_loss: 0.0830 - val_accuracy: 0.9786\n",
      "Epoch 6/100\n",
      "105/105 [==============================] - 1s 8ms/step - loss: 0.0539 - accuracy: 0.9821 - val_loss: 0.1154 - val_accuracy: 0.9607\n",
      "Epoch 7/100\n",
      "105/105 [==============================] - 1s 8ms/step - loss: 0.0607 - accuracy: 0.9833 - val_loss: 0.0147 - val_accuracy: 0.9946\n",
      "Epoch 8/100\n",
      "105/105 [==============================] - 1s 8ms/step - loss: 0.0308 - accuracy: 0.9887 - val_loss: 0.1531 - val_accuracy: 0.9554\n",
      "Epoch 9/100\n",
      "105/105 [==============================] - 1s 7ms/step - loss: 0.0506 - accuracy: 0.9875 - val_loss: 0.0060 - val_accuracy: 0.9982\n",
      "Epoch 10/100\n",
      "105/105 [==============================] - 1s 8ms/step - loss: 0.0247 - accuracy: 0.9929 - val_loss: 0.0249 - val_accuracy: 0.9946\n",
      "Epoch 11/100\n",
      "105/105 [==============================] - 1s 7ms/step - loss: 0.0308 - accuracy: 0.9893 - val_loss: 0.0551 - val_accuracy: 0.9804\n",
      "Epoch 12/100\n",
      "105/105 [==============================] - 1s 7ms/step - loss: 0.0399 - accuracy: 0.9899 - val_loss: 0.0101 - val_accuracy: 0.9964\n",
      "Epoch 13/100\n",
      "105/105 [==============================] - 1s 7ms/step - loss: 0.0150 - accuracy: 0.9952 - val_loss: 0.0893 - val_accuracy: 0.9714\n",
      "Epoch 14/100\n",
      "105/105 [==============================] - 1s 7ms/step - loss: 0.0227 - accuracy: 0.9940 - val_loss: 0.0109 - val_accuracy: 0.9946\n",
      "Epoch 15/100\n",
      "105/105 [==============================] - 1s 7ms/step - loss: 0.0141 - accuracy: 0.9946 - val_loss: 0.0241 - val_accuracy: 0.9893\n",
      "Epoch 16/100\n",
      "105/105 [==============================] - 1s 8ms/step - loss: 0.0220 - accuracy: 0.9917 - val_loss: 0.1018 - val_accuracy: 0.9714\n",
      "Epoch 17/100\n",
      "105/105 [==============================] - 1s 6ms/step - loss: 0.0213 - accuracy: 0.9946 - val_loss: 0.0102 - val_accuracy: 0.9964\n",
      "Epoch 18/100\n",
      "105/105 [==============================] - 1s 8ms/step - loss: 0.0114 - accuracy: 0.9946 - val_loss: 0.0086 - val_accuracy: 0.9964\n",
      "Epoch 19/100\n",
      "105/105 [==============================] - 1s 8ms/step - loss: 0.0085 - accuracy: 0.9964 - val_loss: 0.0087 - val_accuracy: 0.9982\n",
      "Epoch 20/100\n",
      "105/105 [==============================] - 1s 6ms/step - loss: 0.0159 - accuracy: 0.9946 - val_loss: 0.0183 - val_accuracy: 0.9946\n",
      "Epoch 21/100\n",
      "105/105 [==============================] - 1s 7ms/step - loss: 0.0054 - accuracy: 0.9982 - val_loss: 0.0264 - val_accuracy: 0.9875\n",
      "Epoch 22/100\n",
      "105/105 [==============================] - 1s 8ms/step - loss: 0.0239 - accuracy: 0.9929 - val_loss: 0.0143 - val_accuracy: 0.9964\n",
      "Epoch 23/100\n",
      "105/105 [==============================] - 1s 7ms/step - loss: 0.0123 - accuracy: 0.9970 - val_loss: 0.0179 - val_accuracy: 0.9946\n",
      "Epoch 24/100\n",
      "105/105 [==============================] - 1s 7ms/step - loss: 0.0090 - accuracy: 0.9976 - val_loss: 0.0120 - val_accuracy: 0.9964\n",
      "Epoch 25/100\n",
      "105/105 [==============================] - 1s 7ms/step - loss: 0.0072 - accuracy: 0.9964 - val_loss: 0.0181 - val_accuracy: 0.9964\n",
      "Epoch 26/100\n",
      "105/105 [==============================] - 1s 7ms/step - loss: 0.0087 - accuracy: 0.9964 - val_loss: 0.0174 - val_accuracy: 0.9911\n",
      "Epoch 27/100\n",
      "105/105 [==============================] - 1s 7ms/step - loss: 0.0154 - accuracy: 0.9976 - val_loss: 0.0324 - val_accuracy: 0.9911\n",
      "Epoch 28/100\n",
      "105/105 [==============================] - 1s 7ms/step - loss: 0.0039 - accuracy: 0.9982 - val_loss: 0.0071 - val_accuracy: 0.9964\n",
      "Epoch 29/100\n",
      "105/105 [==============================] - 1s 7ms/step - loss: 0.0049 - accuracy: 0.9982 - val_loss: 0.0130 - val_accuracy: 0.9964\n",
      "Epoch 30/100\n",
      "105/105 [==============================] - 1s 8ms/step - loss: 0.0018 - accuracy: 0.9994 - val_loss: 0.0063 - val_accuracy: 0.9964\n",
      "Epoch 31/100\n",
      "105/105 [==============================] - 1s 7ms/step - loss: 0.0064 - accuracy: 0.9976 - val_loss: 0.0072 - val_accuracy: 0.9964\n",
      "Epoch 32/100\n",
      "105/105 [==============================] - 1s 7ms/step - loss: 0.0016 - accuracy: 0.9994 - val_loss: 0.0047 - val_accuracy: 0.9982\n",
      "Epoch 33/100\n",
      "105/105 [==============================] - 1s 7ms/step - loss: 0.0038 - accuracy: 0.9982 - val_loss: 0.0071 - val_accuracy: 0.9946\n",
      "Epoch 34/100\n",
      "105/105 [==============================] - 1s 8ms/step - loss: 0.0051 - accuracy: 0.9970 - val_loss: 0.0097 - val_accuracy: 0.9946\n",
      "Epoch 35/100\n",
      "105/105 [==============================] - 1s 7ms/step - loss: 0.0026 - accuracy: 0.9988 - val_loss: 0.0145 - val_accuracy: 0.9929\n",
      "Epoch 36/100\n",
      "105/105 [==============================] - 1s 7ms/step - loss: 0.0061 - accuracy: 0.9982 - val_loss: 0.0713 - val_accuracy: 0.9804\n",
      "Epoch 37/100\n",
      "105/105 [==============================] - 1s 7ms/step - loss: 0.0041 - accuracy: 0.9982 - val_loss: 0.0077 - val_accuracy: 0.9982\n",
      "Epoch 38/100\n",
      "105/105 [==============================] - 1s 7ms/step - loss: 0.0046 - accuracy: 0.9988 - val_loss: 0.0169 - val_accuracy: 0.9946\n",
      "Epoch 39/100\n",
      "105/105 [==============================] - 1s 6ms/step - loss: 0.0041 - accuracy: 0.9988 - val_loss: 0.0109 - val_accuracy: 0.9964\n",
      "Epoch 40/100\n",
      "105/105 [==============================] - 1s 7ms/step - loss: 0.0010 - accuracy: 0.9994 - val_loss: 0.0248 - val_accuracy: 0.9929\n",
      "Epoch 41/100\n",
      "105/105 [==============================] - 1s 7ms/step - loss: 0.0043 - accuracy: 0.9982 - val_loss: 0.0139 - val_accuracy: 0.9946\n",
      "Epoch 42/100\n",
      "105/105 [==============================] - 1s 7ms/step - loss: 0.0020 - accuracy: 0.9994 - val_loss: 0.0093 - val_accuracy: 0.9964\n",
      "Epoch 43/100\n",
      "105/105 [==============================] - 1s 8ms/step - loss: 6.4567e-04 - accuracy: 0.9994 - val_loss: 0.0229 - val_accuracy: 0.9929\n",
      "Epoch 44/100\n",
      "105/105 [==============================] - 1s 7ms/step - loss: 2.0002e-04 - accuracy: 1.0000 - val_loss: 0.0191 - val_accuracy: 0.9929\n",
      "Epoch 45/100\n",
      "105/105 [==============================] - 1s 7ms/step - loss: 0.0021 - accuracy: 0.9988 - val_loss: 0.0053 - val_accuracy: 0.9982\n",
      "Epoch 46/100\n",
      "105/105 [==============================] - 1s 7ms/step - loss: 0.0033 - accuracy: 0.9994 - val_loss: 0.0152 - val_accuracy: 0.9964\n",
      "Epoch 47/100\n",
      "105/105 [==============================] - 1s 7ms/step - loss: 0.0027 - accuracy: 0.9982 - val_loss: 0.0076 - val_accuracy: 0.9964\n",
      "Epoch 48/100\n",
      "105/105 [==============================] - 1s 7ms/step - loss: 0.0031 - accuracy: 0.9988 - val_loss: 0.0147 - val_accuracy: 0.9964\n",
      "Epoch 49/100\n",
      "105/105 [==============================] - 1s 7ms/step - loss: 0.0046 - accuracy: 0.9994 - val_loss: 0.0255 - val_accuracy: 0.9929\n",
      "Epoch 50/100\n",
      "105/105 [==============================] - 1s 7ms/step - loss: 0.0070 - accuracy: 0.9976 - val_loss: 0.0265 - val_accuracy: 0.9946\n",
      "Epoch 51/100\n",
      "105/105 [==============================] - 1s 7ms/step - loss: 0.0065 - accuracy: 0.9976 - val_loss: 0.0450 - val_accuracy: 0.9893\n",
      "Epoch 52/100\n",
      "105/105 [==============================] - 1s 7ms/step - loss: 0.0044 - accuracy: 0.9988 - val_loss: 0.0134 - val_accuracy: 0.9964\n",
      "Epoch 53/100\n",
      "105/105 [==============================] - 1s 7ms/step - loss: 0.0023 - accuracy: 0.9994 - val_loss: 0.0097 - val_accuracy: 0.9929\n",
      "Epoch 54/100\n",
      "105/105 [==============================] - 1s 6ms/step - loss: 0.0043 - accuracy: 0.9988 - val_loss: 0.0320 - val_accuracy: 0.9929\n",
      "Epoch 55/100\n",
      "105/105 [==============================] - 1s 7ms/step - loss: 0.0037 - accuracy: 0.9988 - val_loss: 0.0070 - val_accuracy: 0.9982\n",
      "Epoch 56/100\n",
      "105/105 [==============================] - 1s 7ms/step - loss: 0.0025 - accuracy: 0.9988 - val_loss: 0.0108 - val_accuracy: 0.9964\n",
      "Epoch 57/100\n",
      "105/105 [==============================] - 1s 8ms/step - loss: 6.9468e-04 - accuracy: 0.9994 - val_loss: 0.0118 - val_accuracy: 0.9982\n",
      "Epoch 58/100\n",
      "105/105 [==============================] - 1s 7ms/step - loss: 0.0050 - accuracy: 0.9982 - val_loss: 0.0138 - val_accuracy: 0.9964\n",
      "Epoch 59/100\n",
      "105/105 [==============================] - 1s 7ms/step - loss: 0.0048 - accuracy: 0.9988 - val_loss: 0.0113 - val_accuracy: 0.9982\n",
      "Epoch 60/100\n",
      "105/105 [==============================] - 1s 8ms/step - loss: 0.0019 - accuracy: 0.9988 - val_loss: 0.0208 - val_accuracy: 0.9946\n",
      "Epoch 61/100\n",
      "105/105 [==============================] - 1s 7ms/step - loss: 0.0010 - accuracy: 0.9994 - val_loss: 0.0039 - val_accuracy: 0.9964\n",
      "Epoch 62/100\n",
      "105/105 [==============================] - 1s 7ms/step - loss: 0.0028 - accuracy: 0.9988 - val_loss: 0.0056 - val_accuracy: 0.9964\n",
      "Epoch 63/100\n",
      "105/105 [==============================] - 1s 7ms/step - loss: 0.0016 - accuracy: 0.9994 - val_loss: 0.0254 - val_accuracy: 0.9964\n",
      "Epoch 64/100\n",
      "105/105 [==============================] - 1s 7ms/step - loss: 0.0029 - accuracy: 0.9988 - val_loss: 0.0177 - val_accuracy: 0.9946\n",
      "Epoch 65/100\n",
      "105/105 [==============================] - 1s 7ms/step - loss: 0.0035 - accuracy: 0.9988 - val_loss: 0.0205 - val_accuracy: 0.9946\n",
      "Epoch 66/100\n",
      "105/105 [==============================] - 1s 7ms/step - loss: 0.0066 - accuracy: 0.9988 - val_loss: 0.0068 - val_accuracy: 0.9982\n",
      "Epoch 67/100\n",
      "105/105 [==============================] - 1s 6ms/step - loss: 5.7727e-04 - accuracy: 1.0000 - val_loss: 0.0108 - val_accuracy: 0.9964\n",
      "Epoch 68/100\n",
      "105/105 [==============================] - 1s 7ms/step - loss: 1.6140e-04 - accuracy: 1.0000 - val_loss: 0.0126 - val_accuracy: 0.9964\n",
      "Epoch 69/100\n",
      "105/105 [==============================] - 1s 6ms/step - loss: 0.0012 - accuracy: 0.9994 - val_loss: 0.0092 - val_accuracy: 0.9964\n",
      "Epoch 70/100\n",
      "105/105 [==============================] - 1s 7ms/step - loss: 0.0010 - accuracy: 0.9994 - val_loss: 0.0352 - val_accuracy: 0.9929\n",
      "Epoch 71/100\n",
      "105/105 [==============================] - 1s 7ms/step - loss: 1.9755e-04 - accuracy: 1.0000 - val_loss: 0.0054 - val_accuracy: 0.9982\n",
      "Epoch 72/100\n",
      "105/105 [==============================] - 1s 7ms/step - loss: 1.7382e-04 - accuracy: 1.0000 - val_loss: 0.0180 - val_accuracy: 0.9964\n",
      "Epoch 73/100\n",
      "105/105 [==============================] - 1s 7ms/step - loss: 0.0038 - accuracy: 0.9994 - val_loss: 0.0096 - val_accuracy: 0.9982\n",
      "Epoch 74/100\n",
      "105/105 [==============================] - 1s 6ms/step - loss: 4.9203e-04 - accuracy: 1.0000 - val_loss: 0.0303 - val_accuracy: 0.9911\n",
      "Epoch 75/100\n",
      "105/105 [==============================] - 1s 7ms/step - loss: 0.0054 - accuracy: 0.9976 - val_loss: 0.0141 - val_accuracy: 0.9964\n",
      "Epoch 76/100\n",
      "105/105 [==============================] - 1s 6ms/step - loss: 1.1479e-05 - accuracy: 1.0000 - val_loss: 0.0099 - val_accuracy: 0.9946\n",
      "Epoch 77/100\n",
      "105/105 [==============================] - 1s 7ms/step - loss: 0.0018 - accuracy: 0.9994 - val_loss: 0.0117 - val_accuracy: 0.9929\n",
      "Epoch 78/100\n",
      "105/105 [==============================] - 1s 7ms/step - loss: 2.3042e-04 - accuracy: 1.0000 - val_loss: 0.0074 - val_accuracy: 0.9964\n",
      "Epoch 79/100\n",
      "105/105 [==============================] - 1s 7ms/step - loss: 1.3308e-04 - accuracy: 1.0000 - val_loss: 0.0370 - val_accuracy: 0.9929\n",
      "Epoch 80/100\n",
      "105/105 [==============================] - 1s 6ms/step - loss: 4.3998e-04 - accuracy: 1.0000 - val_loss: 0.0059 - val_accuracy: 0.9964\n",
      "Epoch 81/100\n",
      "105/105 [==============================] - 1s 9ms/step - loss: 8.7831e-06 - accuracy: 1.0000 - val_loss: 0.0093 - val_accuracy: 0.9964\n",
      "Epoch 82/100\n",
      "105/105 [==============================] - 1s 7ms/step - loss: 0.0045 - accuracy: 0.9988 - val_loss: 0.0184 - val_accuracy: 0.9946\n",
      "Epoch 83/100\n",
      "105/105 [==============================] - 1s 7ms/step - loss: 0.0013 - accuracy: 0.9994 - val_loss: 0.0138 - val_accuracy: 0.9964\n",
      "Epoch 84/100\n",
      "105/105 [==============================] - 1s 7ms/step - loss: 5.8002e-04 - accuracy: 0.9994 - val_loss: 0.0177 - val_accuracy: 0.9946\n",
      "Epoch 85/100\n",
      "105/105 [==============================] - 1s 8ms/step - loss: 2.0354e-05 - accuracy: 1.0000 - val_loss: 0.0092 - val_accuracy: 0.9964\n",
      "Epoch 86/100\n",
      "105/105 [==============================] - 1s 8ms/step - loss: 6.0544e-04 - accuracy: 1.0000 - val_loss: 0.0224 - val_accuracy: 0.9964\n",
      "Epoch 87/100\n",
      "105/105 [==============================] - 1s 8ms/step - loss: 3.7856e-05 - accuracy: 1.0000 - val_loss: 0.0279 - val_accuracy: 0.9946\n",
      "Epoch 88/100\n",
      "105/105 [==============================] - 1s 8ms/step - loss: 0.0027 - accuracy: 0.9994 - val_loss: 0.0162 - val_accuracy: 0.9946\n",
      "Epoch 89/100\n",
      "105/105 [==============================] - 1s 7ms/step - loss: 0.0028 - accuracy: 0.9994 - val_loss: 0.0285 - val_accuracy: 0.9929\n",
      "Epoch 90/100\n",
      "105/105 [==============================] - 1s 7ms/step - loss: 1.2362e-04 - accuracy: 1.0000 - val_loss: 0.0217 - val_accuracy: 0.9946\n",
      "Epoch 91/100\n",
      "105/105 [==============================] - 1s 7ms/step - loss: 7.2957e-05 - accuracy: 1.0000 - val_loss: 0.0091 - val_accuracy: 0.9982\n",
      "Epoch 92/100\n",
      "105/105 [==============================] - 1s 7ms/step - loss: 2.0900e-04 - accuracy: 1.0000 - val_loss: 0.0056 - val_accuracy: 0.9964\n",
      "Epoch 93/100\n",
      "105/105 [==============================] - 1s 8ms/step - loss: 7.6330e-04 - accuracy: 0.9994 - val_loss: 0.0242 - val_accuracy: 0.9929\n",
      "Epoch 94/100\n",
      "105/105 [==============================] - 1s 7ms/step - loss: 6.6126e-06 - accuracy: 1.0000 - val_loss: 0.0063 - val_accuracy: 0.9929\n",
      "Epoch 95/100\n",
      "105/105 [==============================] - 1s 7ms/step - loss: 0.0024 - accuracy: 0.9994 - val_loss: 0.0071 - val_accuracy: 0.9964\n",
      "Epoch 96/100\n",
      "105/105 [==============================] - 1s 7ms/step - loss: 0.0028 - accuracy: 0.9994 - val_loss: 0.0130 - val_accuracy: 0.9964\n",
      "Epoch 97/100\n",
      "105/105 [==============================] - 1s 7ms/step - loss: 9.1988e-06 - accuracy: 1.0000 - val_loss: 0.0057 - val_accuracy: 0.9964\n",
      "Epoch 98/100\n",
      "105/105 [==============================] - 1s 7ms/step - loss: 4.7337e-05 - accuracy: 1.0000 - val_loss: 0.0058 - val_accuracy: 0.9964\n",
      "Epoch 99/100\n",
      "105/105 [==============================] - 1s 7ms/step - loss: 6.8696e-06 - accuracy: 1.0000 - val_loss: 0.0269 - val_accuracy: 0.9946\n",
      "Epoch 100/100\n",
      "105/105 [==============================] - 1s 7ms/step - loss: 9.9238e-04 - accuracy: 0.9994 - val_loss: 0.0150 - val_accuracy: 0.9929\n"
     ]
    }
   ],
   "source": [
    "# model \n",
    "\n",
    "model = Sequential()\n",
    "model.add(Conv1D(64, 5, padding='same',\n",
    "                    input_shape=(40, 1)))\n",
    "model.add(Activation('relu'))\n",
    "model.add(Dropout(0.2))\n",
    "model.add(Flatten())\n",
    "model.add(Dense(7))\n",
    "model.add(Activation('softmax'))\n",
    "\n",
    "print(model.summary)\n",
    "\n",
    "model.compile(loss='sparse_categorical_crossentropy',\n",
    "                optimizer='rmsprop',\n",
    "                metrics=['accuracy'])\n",
    "model_name = 'Emotion_Voice_Detection_Model.h5'\n",
    "checkpoint = ModelCheckpoint(model_name, save_best_only=True, monitor='accuracy', mode='max')\n",
    "\n",
    "cnn_history = model.fit(x_traincnn, y_train,\n",
    "                        batch_size=16, epochs=100,\n",
    "                        validation_data=(x_valcnn, y_val),\n",
    "                       callbacks = [checkpoint])"
   ]
  },
  {
   "cell_type": "code",
   "execution_count": 10,
   "metadata": {},
   "outputs": [
    {
     "data": {
      "image/png": "[encoded data removed]",
      "text/plain": [
       "<Figure size 864x360 with 2 Axes>"
      ]
     },
     "metadata": {
      "needs_background": "light"
     },
     "output_type": "display_data"
    }
   ],
   "source": [
    "# \n",
    "plt.rcParams['figure.figsize'] = (12,5)\n",
    "fig, axs = plt.subplots(1,2)\n",
    "\n",
    "axs[0].plot(cnn_history.history['loss'])\n",
    "axs[0].plot(cnn_history.history['val_loss'])\n",
    "axs[0].set_title('model loss')\n",
    "axs[0].set_ylabel('loss')\n",
    "axs[0].set_xlabel('epoch')\n",
    "axs[0].legend(['train', 'val'], loc='upper left')\n",
    "\n",
    "\n",
    "# Accuracy plotting\n",
    "axs[1].plot(cnn_history.history['accuracy'])\n",
    "axs[1].plot(cnn_history.history['val_accuracy'])\n",
    "axs[1].set_title('model accuracy')\n",
    "axs[1].set_ylabel('accuracy')\n",
    "axs[1].set_xlabel('epoch')\n",
    "axs[1].legend(['train', 'val'], loc='upper left')\n",
    "plt.show()"
   ]
  },
  {
   "cell_type": "code",
   "execution_count": 11,
   "metadata": {},
   "outputs": [
    {
     "name": "stdout",
     "output_type": "stream",
     "text": [
      "18/18 [==============================] - 0s 3ms/step\n",
      "Saved trained model at model\\Emotion_Voice_Detection_Model.h5 \n",
      "label array:  ['angry' 'disgust' 'fear' 'happy' 'neutral' 'pleasant_surprise' 'sad']\n"
     ]
    }
   ],
   "source": [
    "predictions = np.argmax(model.predict(x_testcnn),axis =1)\n",
    "# pred = np.argmax(predictions,axis =1)\n",
    "new_y_test= y_test\n",
    "# print(\"accuracy: \",np.mean(new_y_test == predictions))\n",
    "matrix = confusion_matrix(new_y_test, predictions)\n",
    "\n",
    "# print(classification_report(new_y_test, predictions))\n",
    "# print(matrix)\n",
    "\n",
    "\n",
    "\n",
    "# # Save model and weights\n",
    "MODEL_DIR_PATH = \"model\"\n",
    "if not os.path.isdir(MODEL_DIR_PATH):\n",
    "    os.makedirs(MODEL_DIR_PATH)\n",
    "model_path = os.path.join(MODEL_DIR_PATH, model_name)\n",
    "model.save(model_path)\n",
    "print('Saved trained model at %s ' % model_path)\n",
    "# predictions.shape,pred.shape\n",
    "print(\"label array: \",label_encoder.classes_)"
   ]
  },
  {
   "cell_type": "markdown",
   "metadata": {},
   "source": [
    "# Evaluation"
   ]
  },
  {
   "cell_type": "code",
   "execution_count": 12,
   "metadata": {},
   "outputs": [
    {
     "data": {
      "text/html": [
       "<div>\n",
       "<style scoped>\n",
       "    .dataframe tbody tr th:only-of-type {\n",
       "        vertical-align: middle;\n",
       "    }\n",
       "\n",
       "    .dataframe tbody tr th {\n",
       "        vertical-align: top;\n",
       "    }\n",
       "\n",
       "    .dataframe thead th {\n",
       "        text-align: right;\n",
       "    }\n",
       "</style>\n",
       "<table border=\"1\" class=\"dataframe\">\n",
       "  <thead>\n",
       "    <tr style=\"text-align: right;\">\n",
       "      <th></th>\n",
       "      <th>precision</th>\n",
       "      <th>recall</th>\n",
       "      <th>f1-score</th>\n",
       "      <th>support</th>\n",
       "    </tr>\n",
       "    <tr>\n",
       "      <th>label</th>\n",
       "      <th></th>\n",
       "      <th></th>\n",
       "      <th></th>\n",
       "      <th></th>\n",
       "    </tr>\n",
       "  </thead>\n",
       "  <tbody>\n",
       "    <tr>\n",
       "      <th>angry</th>\n",
       "      <td>1.000000</td>\n",
       "      <td>0.986301</td>\n",
       "      <td>0.993103</td>\n",
       "      <td>73.0</td>\n",
       "    </tr>\n",
       "    <tr>\n",
       "      <th>disgust</th>\n",
       "      <td>1.000000</td>\n",
       "      <td>1.000000</td>\n",
       "      <td>1.000000</td>\n",
       "      <td>90.0</td>\n",
       "    </tr>\n",
       "    <tr>\n",
       "      <th>fear</th>\n",
       "      <td>0.987500</td>\n",
       "      <td>1.000000</td>\n",
       "      <td>0.993711</td>\n",
       "      <td>79.0</td>\n",
       "    </tr>\n",
       "    <tr>\n",
       "      <th>happy</th>\n",
       "      <td>0.973684</td>\n",
       "      <td>0.986667</td>\n",
       "      <td>0.980132</td>\n",
       "      <td>75.0</td>\n",
       "    </tr>\n",
       "    <tr>\n",
       "      <th>neutral</th>\n",
       "      <td>1.000000</td>\n",
       "      <td>1.000000</td>\n",
       "      <td>1.000000</td>\n",
       "      <td>80.0</td>\n",
       "    </tr>\n",
       "    <tr>\n",
       "      <th>pleasant_surprise</th>\n",
       "      <td>1.000000</td>\n",
       "      <td>0.987654</td>\n",
       "      <td>0.993789</td>\n",
       "      <td>81.0</td>\n",
       "    </tr>\n",
       "    <tr>\n",
       "      <th>sad</th>\n",
       "      <td>1.000000</td>\n",
       "      <td>1.000000</td>\n",
       "      <td>1.000000</td>\n",
       "      <td>82.0</td>\n",
       "    </tr>\n",
       "  </tbody>\n",
       "</table>\n",
       "</div>"
      ],
      "text/plain": [
       "                   precision    recall  f1-score  support\n",
       "label                                                    \n",
       "angry               1.000000  0.986301  0.993103     73.0\n",
       "disgust             1.000000  1.000000  1.000000     90.0\n",
       "fear                0.987500  1.000000  0.993711     79.0\n",
       "happy               0.973684  0.986667  0.980132     75.0\n",
       "neutral             1.000000  1.000000  1.000000     80.0\n",
       "pleasant_surprise   1.000000  0.987654  0.993789     81.0\n",
       "sad                 1.000000  1.000000  1.000000     82.0"
      ]
     },
     "execution_count": 12,
     "metadata": {},
     "output_type": "execute_result"
    }
   ],
   "source": [
    "# Evaluation\n",
    "\n",
    "# report_pd = pd.DataFrame(matrix).transpose()\n",
    "# report_pd.rename(columns = {0:'angry', 1:'disgust',2:'fear',3:'happy',4:'neutral',5:'pleasant surprise',6:'sad'}, inplace = True)\n",
    "# report_pd['label'] = label_encoder.classes_\n",
    "# report_pd.set_index('label',inplace = True)\n",
    "\n",
    "report = classification_report(new_y_test, predictions,output_dict=True)\n",
    "report_pd = pd.DataFrame(report).transpose()\n",
    "report_per_class = report_pd.iloc[:-3].copy()\n",
    "report_per_class['label'] = label_encoder.classes_\n",
    "report_per_class.set_index('label',inplace = True)\n",
    "report_per_class"
   ]
  },
  {
   "cell_type": "code",
   "execution_count": 16,
   "metadata": {},
   "outputs": [
    {
     "data": {
      "text/html": [
       "<div>\n",
       "<style scoped>\n",
       "    .dataframe tbody tr th:only-of-type {\n",
       "        vertical-align: middle;\n",
       "    }\n",
       "\n",
       "    .dataframe tbody tr th {\n",
       "        vertical-align: top;\n",
       "    }\n",
       "\n",
       "    .dataframe thead th {\n",
       "        text-align: right;\n",
       "    }\n",
       "</style>\n",
       "<table border=\"1\" class=\"dataframe\">\n",
       "  <thead>\n",
       "    <tr style=\"text-align: right;\">\n",
       "      <th></th>\n",
       "      <th>precision</th>\n",
       "      <th>recall</th>\n",
       "      <th>f1-score</th>\n",
       "      <th>support</th>\n",
       "    </tr>\n",
       "  </thead>\n",
       "  <tbody>\n",
       "    <tr>\n",
       "      <th>macro avg</th>\n",
       "      <td>0.994455</td>\n",
       "      <td>0.994375</td>\n",
       "      <td>0.994391</td>\n",
       "      <td>560.0</td>\n",
       "    </tr>\n",
       "    <tr>\n",
       "      <th>weighted avg</th>\n",
       "      <td>0.994712</td>\n",
       "      <td>0.994643</td>\n",
       "      <td>0.994655</td>\n",
       "      <td>560.0</td>\n",
       "    </tr>\n",
       "  </tbody>\n",
       "</table>\n",
       "</div>"
      ],
      "text/plain": [
       "              precision    recall  f1-score  support\n",
       "macro avg      0.994455  0.994375  0.994391    560.0\n",
       "weighted avg   0.994712  0.994643  0.994655    560.0"
      ]
     },
     "execution_count": 16,
     "metadata": {},
     "output_type": "execute_result"
    }
   ],
   "source": [
    "# total summary\n",
    "report_pd.iloc[8:,]"
   ]
  },
  {
   "cell_type": "code",
   "execution_count": 19,
   "metadata": {},
   "outputs": [
    {
     "name": "stdout",
     "output_type": "stream",
     "text": [
      "Accuracy of the model is: 0.994643\n"
     ]
    }
   ],
   "source": [
    "# print accuracy\n",
    "print(f\"Accuracy of the model is: {report['accuracy']:3f}\")"
   ]
  },
  {
   "cell_type": "code",
   "execution_count": 14,
   "metadata": {},
   "outputs": [
    {
     "data": {
      "image/png": "[encoded data removed]",
      "text/plain": [
       "<Figure size 864x360 with 2 Axes>"
      ]
     },
     "metadata": {
      "needs_background": "light"
     },
     "output_type": "display_data"
    }
   ],
   "source": [
    "#confusion matrix\n",
    "import seaborn as sns\n",
    "sns.heatmap(matrix, xticklabels=label_encoder.classes_, yticklabels=label_encoder.classes_,annot=True,fmt=\"d\");\n"
   ]
  },
  {
   "cell_type": "markdown",
   "metadata": {},
   "source": [
    "Hence we see that on TESS dataset, this model achived a weighted average F1 score of 0.995"
   ]
  },
  {
   "cell_type": "code",
   "execution_count": null,
   "metadata": {},
   "outputs": [],
   "source": []
  }
 ],
 "metadata": {
  "kernelspec": {
   "display_name": "Python 3.8.5 ('base')",
   "language": "python",
   "name": "python3"
  },
  "language_info": {
   "codemirror_mode": {
    "name": "ipython",
    "version": 3
   },
   "file_extension": ".py",
   "mimetype": "text/x-python",
   "name": "python",
   "nbconvert_exporter": "python",
   "pygments_lexer": "ipython3",
   "version": "3.8.5"
  },
  "vscode": {
   "interpreter": {
    "hash": "4598b19b472b7fcb57cb0d038e4ac1bc4acad454dd6d3f235e98c7d0075738af"
   }
  }
 },
 "nbformat": 4,
 "nbformat_minor": 2
}
